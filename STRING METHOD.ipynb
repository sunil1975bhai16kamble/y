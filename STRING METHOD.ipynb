{
 "cells": [
  {
   "cell_type": "code",
   "execution_count": 1,
   "id": "6250b6b2",
   "metadata": {},
   "outputs": [
    {
     "name": "stdout",
     "output_type": "stream",
     "text": [
      "Never give up in the life\n",
      "never give up in the life\n",
      "  never give up in the life   \n",
      "5\n",
      "True\n",
      "6\n",
      "11\n",
      "False\n",
      "False\n",
      "False\n",
      "True\n",
      "False\n",
      "False\n",
      "False\n",
      "never give up in the life\n",
      "NEVER GIVE UP IN THE LIFE\n",
      "False\n"
     ]
    }
   ],
   "source": [
    "#strind mEthod (important)\n",
    "x = \"never give up in the life\"\n",
    "y = x.capitalize()\n",
    "print(y)\n",
    "z = x.casefold()\n",
    "print(z)\n",
    "a = x.center(30)                #mEthod of the string \n",
    "print(a)\n",
    "b = x.count(\"e\")\n",
    "print(b)\n",
    "c = x.endswith(\"life\")\n",
    "print(c)\n",
    "d = x.find(\"give\")\n",
    "print(d)\n",
    "e = x.index(\"up\")\n",
    "print(e)\n",
    "f = x.isalnum()\n",
    "print(f)\n",
    "g = x.isalpha()\n",
    "print(g)\n",
    "h = x.isdigit()\n",
    "print(h)\n",
    "i = x.islower()\n",
    "print(i)\n",
    "j = x.isnumeric()\n",
    "print(j)\n",
    "k = x.istitle()\n",
    "print(k)\n",
    "l = x.isupper()\n",
    "print(l)\n",
    "m = x.lower()\n",
    "print(m)\n",
    "n = x.upper()\n",
    "print(n)\n",
    "o = x.startswith(\"NEVER\")\n",
    "print(o)"
   ]
  },
  {
   "cell_type": "code",
   "execution_count": 2,
   "id": "fd3d4487",
   "metadata": {},
   "outputs": [
    {
     "name": "stdout",
     "output_type": "stream",
     "text": [
      "78\n",
      "85\n",
      "12\n"
     ]
    }
   ],
   "source": [
    "#python casting for integer\n",
    "x = int(78)\n",
    "y = int(85.2)      \n",
    "z = int (12.0)                       #casting \n",
    "print(x)\n",
    "print(y)\n",
    "print(z)"
   ]
  },
  {
   "cell_type": "code",
   "execution_count": 3,
   "id": "79d54ba8",
   "metadata": {},
   "outputs": [
    {
     "name": "stdout",
     "output_type": "stream",
     "text": [
      "25.0\n",
      "34.6\n",
      "21.0\n"
     ]
    }
   ],
   "source": [
    "#python casting for float \n",
    "x = float(25)\n",
    "y = float(34.6)\n",
    "z = float(21)                    #casting\n",
    "print(x)\n",
    "print(y)\n",
    "print(z)"
   ]
  },
  {
   "cell_type": "code",
   "execution_count": 4,
   "id": "ba44f58c",
   "metadata": {},
   "outputs": [
    {
     "name": "stdout",
     "output_type": "stream",
     "text": [
      "24\n",
      "23.1\n",
      "yash\n"
     ]
    }
   ],
   "source": [
    "#python casting for string\n",
    "x = str(24)\n",
    "y = str(23.1)\n",
    "z = str(\"yash\")                  #casting\n",
    "print(x)\n",
    "print(y)\n",
    "print(z)"
   ]
  },
  {
   "cell_type": "code",
   "execution_count": null,
   "id": "7010abdf",
   "metadata": {},
   "outputs": [],
   "source": []
  }
 ],
 "metadata": {
  "kernelspec": {
   "display_name": "Python 3 (ipykernel)",
   "language": "python",
   "name": "python3"
  },
  "language_info": {
   "codemirror_mode": {
    "name": "ipython",
    "version": 3
   },
   "file_extension": ".py",
   "mimetype": "text/x-python",
   "name": "python",
   "nbconvert_exporter": "python",
   "pygments_lexer": "ipython3",
   "version": "3.9.12"
  }
 },
 "nbformat": 4,
 "nbformat_minor": 5
}
