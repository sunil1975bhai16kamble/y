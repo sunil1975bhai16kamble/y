{
 "cells": [
  {
   "cell_type": "markdown",
   "id": "3ab3cff3",
   "metadata": {},
   "source": [
    "## python collection,function "
   ]
  },
  {
   "cell_type": "code",
   "execution_count": 5,
   "id": "14284497",
   "metadata": {},
   "outputs": [
    {
     "name": "stdout",
     "output_type": "stream",
     "text": [
      "<class 'list'>\n",
      "<class 'tuple'>\n"
     ]
    }
   ],
   "source": [
    "x = [\"virat kholi\",\"rohit sharma\",\"hardik pandya\"]\n",
    "print(type(x))\n",
    "y = (\"virat kholi\",\"rohit sharma\",\"hardik pandya\")\n",
    "print(type(y))"
   ]
  },
  {
   "cell_type": "code",
   "execution_count": 8,
   "id": "8a9220b7",
   "metadata": {},
   "outputs": [
    {
     "name": "stdout",
     "output_type": "stream",
     "text": [
      "<class 'list'>\n",
      "second samllest number in a list 2\n"
     ]
    }
   ],
   "source": [
    " x = [1,2,3,4,5,6,7,8,9]\n",
    "print(type(x))\n",
    "print(\"second samllest number in a list\",x[1])"
   ]
  },
  {
   "cell_type": "code",
   "execution_count": 1,
   "id": "36fb4128",
   "metadata": {},
   "outputs": [
    {
     "name": "stdout",
     "output_type": "stream",
     "text": [
      "['criket', 'running', 'drive']\n",
      "<class 'list'>\n",
      "('criket', 'running', 'drive')\n"
     ]
    }
   ],
   "source": [
    "x = [\"criket\",\"running\",\"drive\"]\n",
    "y = (\"bat\",\"shoues\",\"car\")\n",
    "print(x)\n",
    "print(type(x))\n",
    "z = tuple(x)\n",
    "print(z)"
   ]
  },
  {
   "cell_type": "code",
   "execution_count": 6,
   "id": "6ff86e0b",
   "metadata": {},
   "outputs": [
    {
     "name": "stdout",
     "output_type": "stream",
     "text": [
      "<class 'list'>\n",
      "1\n",
      "2\n",
      "3\n",
      "Ellipsis\n"
     ]
    }
   ],
   "source": [
    "t = [1,2,3,...]\n",
    "print(type(t))\n",
    "i = 0\n",
    "while i<len(t):\n",
    "    print(t[i])\n",
    "    i = i+1"
   ]
  },
  {
   "cell_type": "code",
   "execution_count": 7,
   "id": "7055ca62",
   "metadata": {},
   "outputs": [
    {
     "name": "stdout",
     "output_type": "stream",
     "text": [
      "('highest 1 values in dict', '99')\n",
      "('highest 2 values in dict', '98')\n",
      "('highest 3 values in dict', '78')\n"
     ]
    }
   ],
   "source": [
    "m = {\"x\":\"54\",\"y\":\"78\",\"z\":\"98\",\"e\":\"47\",\"b\":\"99\",\"h\":\"21\"}\n",
    "q = \"highest 1 values in dict\",m[\"b\"]\n",
    "print(q)\n",
    "w = \"highest 2 values in dict\",m[\"z\"]\n",
    "print(w)\n",
    "r = \"highest 3 values in dict\",m[\"y\"]\n",
    "print(r)"
   ]
  },
  {
   "cell_type": "code",
   "execution_count": 1,
   "id": "e26cd7a1",
   "metadata": {},
   "outputs": [
    {
     "name": "stdout",
     "output_type": "stream",
     "text": [
      "[(1, 3, 8), (2, 4, 9)]\n"
     ]
    }
   ],
   "source": [
    "l = [(1,2),(3,4),(8,9)]\n",
    "m = list(zip(*l))\n",
    "print(m)"
   ]
  },
  {
   "cell_type": "code",
   "execution_count": 1,
   "id": "b87c36ae",
   "metadata": {},
   "outputs": [
    {
     "name": "stdout",
     "output_type": "stream",
     "text": [
      "[(0, 0), (1, 2), (2, 1), (3, 4), (4, 3)]\n"
     ]
    }
   ],
   "source": [
    "d = {1:2,3:4,4:3,2:1,0:0}\n",
    "s = sorted(d.items())\n",
    "print(s)"
   ]
  },
  {
   "cell_type": "code",
   "execution_count": 2,
   "id": "add4cd44",
   "metadata": {},
   "outputs": [
    {
     "name": "stdout",
     "output_type": "stream",
     "text": [
      "1 2 3 5 8 13 21 34 "
     ]
    }
   ],
   "source": [
    "n = 10\n",
    "n1, n2 = 0,1\n",
    "for i in range(2, n):\n",
    "    n3 = n1+n2\n",
    "    n1 = n2\n",
    "    n2 = n3\n",
    "    print(n3,end=\" \")"
   ]
  },
  {
   "cell_type": "code",
   "execution_count": 5,
   "id": "db33ecb2",
   "metadata": {},
   "outputs": [
    {
     "name": "stdout",
     "output_type": "stream",
     "text": [
      "{'apple': 2, 'banana': 2, 'cherry': 2, 'kiwi': 2}\n"
     ]
    }
   ],
   "source": [
    "b = [\"apple\",\"banana\",\"cherry\",\"kiwi\",\"apple\",\"banana\",\"cherry\",\"kiwi\"]\n",
    "d = {x:b.count(x) for x in b}\n",
    "print(d)\n"
   ]
  },
  {
   "cell_type": "code",
   "execution_count": 6,
   "id": "f0ea3f0b",
   "metadata": {},
   "outputs": [
    {
     "name": "stdout",
     "output_type": "stream",
     "text": [
      "[0, 1, 2, 3, 4, 5, 6, 'banana', 'goa']\n"
     ]
    }
   ],
   "source": [
    "m = [1,2,0,3,4,0,5,6,6,\"banana\",\"goa\"]\n",
    "print(list(set(m)))"
   ]
  },
  {
   "cell_type": "code",
   "execution_count": 10,
   "id": "6e634b75",
   "metadata": {},
   "outputs": [
    {
     "name": "stdout",
     "output_type": "stream",
     "text": [
      "factorial of 5 is 120\n"
     ]
    }
   ],
   "source": [
    "def recur_factorial(n):\n",
    "    if n==1:\n",
    "        return n\n",
    "    else:\n",
    "        return n* recur_factorial(n-1)\n",
    "num = 5\n",
    "if num < 0 :\n",
    "    print(\"sorry,factorial does not exist\")\n",
    "elif num == 0 :\n",
    "    print(\"the factorial of 0 and 1\")\n",
    "else:\n",
    "    print(\"factorial of\",num,\"is\",recur_factorial(num))"
   ]
  },
  {
   "cell_type": "code",
   "execution_count": 1,
   "id": "b091ea56",
   "metadata": {},
   "outputs": [
    {
     "name": "stdout",
     "output_type": "stream",
     "text": [
      "odd digit sum : 10\n",
      "even digit sum : 10\n"
     ]
    }
   ],
   "source": [
    "x = [12,22,33,43]\n",
    "\n",
    "\n",
    "odd_sum = 0\n",
    "even_sum = 0      #odd series\n",
    "\n",
    "for sub in x:\n",
    "    for ele in str(sub):\n",
    "        \n",
    "        if int(ele) % 2 ==0:\n",
    "            even_sum += int(ele)\n",
    "        else:\n",
    "            odd_sum += int(ele)\n",
    "            \n",
    "            \n",
    "print(\"odd digit sum : \" + str(odd_sum))\n",
    "print(\"even digit sum : \" + str(even_sum))"
   ]
  },
  {
   "cell_type": "code",
   "execution_count": 2,
   "id": "c3ce3b3c",
   "metadata": {},
   "outputs": [
    {
     "name": "stdout",
     "output_type": "stream",
     "text": [
      "odd digit sum : 8\n",
      "even digit sum : 6\n"
     ]
    }
   ],
   "source": [
    "x = [11,21,31,41]\n",
    "\n",
    "\n",
    "odd_sum = 0\n",
    "even_sum = 0\n",
    "\n",
    "for sub in x:                      #even series\n",
    "    for ele in str(sub):\n",
    "        \n",
    "        if int(ele) % 2 ==0:\n",
    "            even_sum += int(ele)\n",
    "        else:\n",
    "            odd_sum += int(ele)\n",
    "            \n",
    "            \n",
    "print(\"odd digit sum : \" + str(odd_sum))\n",
    "print(\"even digit sum : \" + str(even_sum))"
   ]
  }
 ],
 "metadata": {
  "kernelspec": {
   "display_name": "Python 3 (ipykernel)",
   "language": "python",
   "name": "python3"
  },
  "language_info": {
   "codemirror_mode": {
    "name": "ipython",
    "version": 3
   },
   "file_extension": ".py",
   "mimetype": "text/x-python",
   "name": "python",
   "nbconvert_exporter": "python",
   "pygments_lexer": "ipython3",
   "version": "3.9.12"
  }
 },
 "nbformat": 4,
 "nbformat_minor": 5
}
