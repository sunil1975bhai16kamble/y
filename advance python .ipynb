{
 "cells": [
  {
   "cell_type": "code",
   "execution_count": 7,
   "id": "198348c9",
   "metadata": {},
   "outputs": [],
   "source": [
    "y = open(\"book1.txt\",\"x\")"
   ]
  },
  {
   "cell_type": "code",
   "execution_count": 10,
   "id": "157a0cfd",
   "metadata": {},
   "outputs": [
    {
     "name": "stdout",
     "output_type": "stream",
     "text": [
      "['hi\\n', 'bye\\n', 'hello\\n', 'how are you']\n"
     ]
    }
   ],
   "source": [
    "z = open(\"book1.txt\",\"r\")\n",
    "print(z.readlines())"
   ]
  },
  {
   "cell_type": "code",
   "execution_count": 20,
   "id": "3f25d491",
   "metadata": {},
   "outputs": [
    {
     "name": "stdout",
     "output_type": "stream",
     "text": [
      "hi\n",
      " \n",
      "good morning\n",
      "\n",
      "['how are you\\n', 'runing is good for health\\n']\n"
     ]
    }
   ],
   "source": [
    "b = open(\"book.txt\",\"r\")\n",
    "print(b.readline(2))\n",
    "print(b.readline(1))\n",
    "print(b.readline())\n",
    "print(b.readlines())\n",
    "b.close()"
   ]
  },
  {
   "cell_type": "code",
   "execution_count": 25,
   "id": "8a4d0b47",
   "metadata": {},
   "outputs": [
    {
     "name": "stdout",
     "output_type": "stream",
     "text": [
      "<_io.TextIOWrapper name='book1.txt' mode='a' encoding='cp1252'>\n",
      "hi\n",
      "<_io.TextIOWrapper name='book1.txt' mode='a' encoding='cp1252'>\n"
     ]
    }
   ],
   "source": [
    "c = open(\"book1.txt\",\"a\")\n",
    "print(c)\n",
    "print(\"hi\")\n",
    "c.write(\"file handling\")\n",
    "print(c)\n",
    "c.close()"
   ]
  },
  {
   "cell_type": "code",
   "execution_count": 19,
   "id": "793ab8df",
   "metadata": {},
   "outputs": [
    {
     "name": "stdout",
     "output_type": "stream",
     "text": [
      "it is not wrong in maths\n",
      "good try\n"
     ]
    }
   ],
   "source": [
    "a =100\n",
    "b =0\n",
    "try:\n",
    "    c = a/b\n",
    "    \n",
    "    \n",
    "except ZeroDivisionError :\n",
    "    print(\"it is not wrong in maths\")\n",
    "    \n",
    "    \n",
    "else:\n",
    "    print(\"nothing error\")\n",
    "    \n",
    "    \n",
    "finally:\n",
    "       print(\"good try\")\n"
   ]
  },
  {
   "cell_type": "code",
   "execution_count": null,
   "id": "a67ca73a",
   "metadata": {},
   "outputs": [],
   "source": []
  }
 ],
 "metadata": {
  "kernelspec": {
   "display_name": "Python 3 (ipykernel)",
   "language": "python",
   "name": "python3"
  },
  "language_info": {
   "codemirror_mode": {
    "name": "ipython",
    "version": 3
   },
   "file_extension": ".py",
   "mimetype": "text/x-python",
   "name": "python",
   "nbconvert_exporter": "python",
   "pygments_lexer": "ipython3",
   "version": "3.9.12"
  }
 },
 "nbformat": 4,
 "nbformat_minor": 5
}
