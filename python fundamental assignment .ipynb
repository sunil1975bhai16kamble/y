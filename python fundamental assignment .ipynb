{
 "cells": [
  {
   "cell_type": "markdown",
   "id": "b50bcde8",
   "metadata": {},
   "source": [
    "## python fundamental assignment"
   ]
  },
  {
   "cell_type": "code",
   "execution_count": 2,
   "id": "0ceb9b6d",
   "metadata": {},
   "outputs": [],
   "source": [
    "#hi,i am yash kamble.\n",
    "#this is my assignment."
   ]
  },
  {
   "cell_type": "code",
   "execution_count": 3,
   "id": "37bba296",
   "metadata": {},
   "outputs": [
    {
     "name": "stdout",
     "output_type": "stream",
     "text": [
      "78\n",
      "85\n",
      "12\n"
     ]
    }
   ],
   "source": [
    "#python casting for integer\n",
    "x = int(78)\n",
    "y = int(85.2)      \n",
    "z = int (12.0)                       #casting \n",
    "print(x)\n",
    "print(y)\n",
    "print(z)"
   ]
  },
  {
   "cell_type": "code",
   "execution_count": 4,
   "id": "967d8e29",
   "metadata": {},
   "outputs": [
    {
     "name": "stdout",
     "output_type": "stream",
     "text": [
      "25.0\n",
      "34.6\n",
      "21.0\n"
     ]
    }
   ],
   "source": [
    "#python casting for float \n",
    "x = float(25)\n",
    "y = float(34.6)\n",
    "z = float(21)                    #casting\n",
    "print(x)\n",
    "print(y)\n",
    "print(z)"
   ]
  },
  {
   "cell_type": "code",
   "execution_count": 6,
   "id": "4b4d308d",
   "metadata": {},
   "outputs": [
    {
     "name": "stdout",
     "output_type": "stream",
     "text": [
      "24\n",
      "23.1\n",
      "yash\n"
     ]
    }
   ],
   "source": [
    "#python casting for string\n",
    "x = str(24)\n",
    "y = str(23.1)\n",
    "z = str(\"yash\")                  #casting\n",
    "print(x)\n",
    "print(y)\n",
    "print(z)"
   ]
  },
  {
   "cell_type": "code",
   "execution_count": 19,
   "id": "75c66d5e",
   "metadata": {},
   "outputs": [
    {
     "name": "stdout",
     "output_type": "stream",
     "text": [
      "hello,mam how are you.\n",
      "<class 'str'>\n",
      "22\n"
     ]
    }
   ],
   "source": [
    "#python string \n",
    "spd = \"hello,mam how are you.\"       #string basic\n",
    "print(spd)\n",
    "print(type(spd))\n",
    "print(len(spd))"
   ]
  },
  {
   "cell_type": "code",
   "execution_count": 18,
   "id": "1d1d27f2",
   "metadata": {},
   "outputs": [
    {
     "name": "stdout",
     "output_type": "stream",
     "text": [
      "ning\n",
      "runing \n",
      "g is good for health\n",
      "r healt\n"
     ]
    }
   ],
   "source": [
    "#python slicing string \n",
    "xyz = \"runing is good for health\"\n",
    "print(xyz[2:6])                        #string slicing \n",
    "print(xyz[:7])\n",
    "print(xyz[5:])\n",
    "print(xyz[-8:-1])"
   ]
  },
  {
   "cell_type": "code",
   "execution_count": 23,
   "id": "ef6607b6",
   "metadata": {},
   "outputs": [
    {
     "name": "stdout",
     "output_type": "stream",
     "text": [
      "142\n",
      "good moring\n",
      "good  moring\n"
     ]
    }
   ],
   "source": [
    "#string concatention \n",
    "a = 78\n",
    "b = 64\n",
    "c = (a+b)\n",
    "print(c)\n",
    "d = \"good\"\n",
    "e = \" moring\"\n",
    "f = (d+e)\n",
    "print(f)\n",
    "g = (d+\" \"+e)\n",
    "print(g)"
   ]
  },
  {
   "cell_type": "code",
   "execution_count": 46,
   "id": "2c5fd9e6",
   "metadata": {},
   "outputs": [
    {
     "name": "stdout",
     "output_type": "stream",
     "text": [
      "Never give up in the life\n",
      "never give up in the life\n",
      "  never give up in the life   \n",
      "5\n",
      "True\n",
      "6\n",
      "11\n",
      "False\n",
      "False\n",
      "False\n",
      "True\n",
      "False\n",
      "False\n",
      "False\n",
      "never give up in the life\n",
      "NEVER GIVE UP IN THE LIFE\n",
      "False\n"
     ]
    }
   ],
   "source": [
    "#strind mothod (important)\n",
    "x = \"never give up in the life\"\n",
    "y = x.capitalize()\n",
    "print(y)\n",
    "z = x.casefold()\n",
    "print(z)\n",
    "a = x.center(30)                #mothod of the string \n",
    "print(a)\n",
    "b = x.count(\"e\")\n",
    "print(b)\n",
    "c = x.endswith(\"life\")\n",
    "print(c)\n",
    "d = x.find(\"give\")\n",
    "print(d)\n",
    "e = x.index(\"up\")\n",
    "print(e)\n",
    "f = x.isalnum()\n",
    "print(f)\n",
    "g = x.isalpha()\n",
    "print(g)\n",
    "h = x.isdigit()\n",
    "print(h)\n",
    "i = x.islower()\n",
    "print(i)\n",
    "j = x.isnumeric()\n",
    "print(j)\n",
    "k = x.istitle()\n",
    "print(k)\n",
    "l = x.isupper()\n",
    "print(l)\n",
    "m = x.lower()\n",
    "print(m)\n",
    "n = x.upper()\n",
    "print(n)\n",
    "o = x.startswith(\"NEVER\")\n",
    "print(o)\n"
   ]
  },
  {
   "cell_type": "code",
   "execution_count": 48,
   "id": "fc590548",
   "metadata": {},
   "outputs": [
    {
     "name": "stdout",
     "output_type": "stream",
     "text": [
      "x is greter than y\n"
     ]
    }
   ],
   "source": [
    "#python booleans\n",
    "x =55\n",
    "y =25\n",
    "if x>y:\n",
    "    print(\"x is greter than y\")\n",
    "else:\n",
    "    print(\"x is not less than y\")"
   ]
  },
  {
   "cell_type": "code",
   "execution_count": 28,
   "id": "fc2352a2",
   "metadata": {},
   "outputs": [
    {
     "name": "stdout",
     "output_type": "stream",
     "text": [
      "['apple', 'banana', 'cherry', 'kiwi']\n",
      "<class 'list'>\n",
      "4\n",
      "cherry\n",
      "banana\n",
      "['banana', 'cherry']\n"
     ]
    }
   ],
   "source": [
    "#pyton list\n",
    "fruits = [\"apple\",\"banana\",\"cherry\",\"kiwi\"]\n",
    "print(fruits)\n",
    "print(type(fruits))                #list is a ordered,changeable,and allow duplicates\n",
    "print(len(fruits))                 \n",
    "print(fruits[2])\n",
    "print(fruits[-3])\n",
    "print(fruits[1:3])"
   ]
  },
  {
   "cell_type": "code",
   "execution_count": 27,
   "id": "6ab12561",
   "metadata": {},
   "outputs": [
    {
     "name": "stdout",
     "output_type": "stream",
     "text": [
      "['virat', 'rohit', 'suraykumar', 'bumara']\n",
      "['virat', 'rohit', 'suraykumar', 'bumara', 'hardik']\n",
      "['virat', 'rohit', 'suraykumar', 'bumara', 'hardik']\n",
      "1\n",
      "['virat', 'rohit', 'suraykumar', 'bumara', 'hardik', 'saurabh', 'ravi']\n",
      "1\n",
      "['virat', 'rohit', 'suraykumar', 'jadeja', 'bumara', 'hardik', 'saurabh', 'ravi']\n",
      "['virat', 'rohit', 'suraykumar', 'jadeja', 'hardik', 'saurabh', 'ravi']\n",
      "['virat', 'rohit', 'jadeja', 'hardik', 'saurabh', 'ravi']\n",
      "['hardik', 'jadeja', 'ravi', 'rohit', 'saurabh', 'virat']\n",
      "[]\n",
      "['saurabh', 'ravi']\n"
     ]
    }
   ],
   "source": [
    "#python list method\n",
    "name = [\"virat\",\"rohit\",\"suraykumar\",\"bumara\"]\n",
    "coch = [\"saurabh\",\"ravi\"]\n",
    "print(name)\n",
    "name.append(\"hardik\")                 #list method \n",
    "print(name)\n",
    "x = name.copy()\n",
    "print(x)\n",
    "y = name.count(\"rohit\")\n",
    "print(y)\n",
    "name.extend(coch)\n",
    "print(name)\n",
    "a = name.index(\"rohit\")\n",
    "print(a)\n",
    "name.insert(3,\"jadeja\")\n",
    "print(name)\n",
    "name.pop(4)\n",
    "print(name)\n",
    "name.remove(\"suraykumar\")\n",
    "print(name)\n",
    "name.sort()\n",
    "print(name)\n",
    "name.clear()\n",
    "print(name)\n",
    "joi = name + coch\n",
    "print(joi)"
   ]
  },
  {
   "cell_type": "code",
   "execution_count": 40,
   "id": "3c8c6854",
   "metadata": {},
   "outputs": [
    {
     "name": "stdout",
     "output_type": "stream",
     "text": [
      "('shiv', 'bramamma', 'vishanu')\n",
      "<class 'tuple'>\n",
      "('shiv', 'ganpti', 'vishanu')\n",
      "('shiv', 'ganpti', 'vishanu', 'bramamma')\n",
      "shiv\n",
      "ganpti\n",
      "vishanu\n",
      "bramamma\n",
      "('shiv', 'ganpti', 'vishanu', 'bramamma', 'laxmi', 'sarswati')\n"
     ]
    }
   ],
   "source": [
    "#python tuples and tuples method  \n",
    "x = (\"shiv\",\"bramamma\",\"vishanu\")\n",
    "v = (\"laxmi\",\"sarswati\")\n",
    "print(x)                                #list is a ordered,unchangeable,allow duplicates\n",
    "print(type(x))                               \n",
    "y = list(x)                             #list method\n",
    "y[1] = \"ganpti\"\n",
    "x = tuple(y)\n",
    "print(x)\n",
    "z = list(x)\n",
    "z.append(\"bramamma\")\n",
    "x = tuple(z)\n",
    "print(x)\n",
    "for m in x:\n",
    "    print(m)\n",
    "a = x + v\n",
    "print(a)\n"
   ]
  },
  {
   "cell_type": "code",
   "execution_count": 7,
   "id": "593633cb",
   "metadata": {},
   "outputs": [
    {
     "name": "stdout",
     "output_type": "stream",
     "text": [
      "{'cherry', 'virat', 'rohit', 'apple'}\n",
      "<class 'set'>\n"
     ]
    }
   ],
   "source": [
    "#python set\n",
    "xy = {\"apple\",\"cherry\",\"virat\",\"rohit\"}\n",
    "print(xy)\n",
    "print(type(xy))                                   #set is a unordered,unchangeable,duplicates not allowed"
   ]
  },
  {
   "cell_type": "code",
   "execution_count": 24,
   "id": "0909bf08",
   "metadata": {},
   "outputs": [
    {
     "name": "stdout",
     "output_type": "stream",
     "text": [
      "{'gujarat', 'pune', 'maharatra', 'ahmedabad'}\n",
      "{'rajestan', 'gujarat', 'pune', 'maharatra', 'ahmedabad'}\n",
      "{'ahmedabad', 'pune', 'maharatra', 'rajestan'}\n",
      "{'kashmir', 'kedarnath', 'goa'}\n",
      "{'kedarnath', 'goa', 'gujarat', 'kashmir'}\n",
      "{'gujarat'}\n",
      "False\n",
      "False\n",
      "False\n",
      "{'goa', 'gujarat', 'kashmir'}\n",
      "{'gujarat', 'rajestan', 'kashmir', 'pune', 'maharatra', 'ahmedabad', 'goa'}\n"
     ]
    }
   ],
   "source": [
    "#python set method\n",
    "name = {\"gujarat\",\"pune\",\"maharatra\",\"ahmedabad\"}\n",
    "other = {\"goa\",\"kashmir\",\"kedarnath\",\"gujarat\"}\n",
    "print(name)\n",
    "name.add(\"rajestan\")\n",
    "print(name)\n",
    "x = name.difference(other)\n",
    "print(x)\n",
    "other.discard(\"gujarat\")\n",
    "print(other)\n",
    "other.add(\"gujarat\")                             #set method\n",
    "print(other)\n",
    "y = name.intersection(other)\n",
    "print(y)\n",
    "z = name.isdisjoint(other)\n",
    "print(z)\n",
    "b = name.issubset(other)\n",
    "print(b)\n",
    "c = name.issuperset(other)\n",
    "print(c)\n",
    "other.pop()\n",
    "print(other)\n",
    "d = name.union(other)\n",
    "print(d)"
   ]
  },
  {
   "cell_type": "code",
   "execution_count": 25,
   "id": "fda7ff9b",
   "metadata": {},
   "outputs": [
    {
     "name": "stdout",
     "output_type": "stream",
     "text": [
      "x less than y\n"
     ]
    }
   ],
   "source": [
    "#python if ,elif and else \n",
    "x = 52 \n",
    "y = 65\n",
    "if x<y:\n",
    "    print(\"x less than y\")\n",
    "elif x == y:\n",
    "    print(\"x and b are equal\")\n",
    "else:\n",
    "    print(\"x is less than y\")\n",
    "    "
   ]
  },
  {
   "cell_type": "code",
   "execution_count": null,
   "id": "b921f536",
   "metadata": {},
   "outputs": [],
   "source": []
  }
 ],
 "metadata": {
  "kernelspec": {
   "display_name": "Python 3 (ipykernel)",
   "language": "python",
   "name": "python3"
  },
  "language_info": {
   "codemirror_mode": {
    "name": "ipython",
    "version": 3
   },
   "file_extension": ".py",
   "mimetype": "text/x-python",
   "name": "python",
   "nbconvert_exporter": "python",
   "pygments_lexer": "ipython3",
   "version": "3.9.12"
  }
 },
 "nbformat": 4,
 "nbformat_minor": 5
}
