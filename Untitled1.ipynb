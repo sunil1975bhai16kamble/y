{
 "cells": [
  {
   "cell_type": "code",
   "execution_count": 2,
   "id": "1f23fdaa",
   "metadata": {},
   "outputs": [],
   "source": [
    "class pare1:\n",
    "    def assign_pare1(self,name):\n",
    "        self.name = name\n",
    "    def show_pare1(self):\n",
    "        return self.name\n",
    "    "
   ]
  },
  {
   "cell_type": "code",
   "execution_count": 3,
   "id": "f1cc6264",
   "metadata": {},
   "outputs": [],
   "source": [
    "class pare2:\n",
    "    def assign_pare2(self,address):\n",
    "        self.address = address\n",
    "    def show_pare2(self):\n",
    "        return self.address"
   ]
  },
  {
   "cell_type": "code",
   "execution_count": 4,
   "id": "8d768815",
   "metadata": {},
   "outputs": [],
   "source": [
    "class child(pare1,pare2):\n",
    "    def assign_chil(self,chil):\n",
    "        self.chil = chil\n",
    "    def show_chil(self):\n",
    "        return self.chil"
   ]
  },
  {
   "cell_type": "code",
   "execution_count": 5,
   "id": "e79ca133",
   "metadata": {},
   "outputs": [],
   "source": [
    "c1 = child()"
   ]
  },
  {
   "cell_type": "code",
   "execution_count": 6,
   "id": "e39ea8d9",
   "metadata": {},
   "outputs": [],
   "source": [
    "c1.assign_pare1(\"good\")"
   ]
  },
  {
   "cell_type": "code",
   "execution_count": 7,
   "id": "579f923f",
   "metadata": {},
   "outputs": [
    {
     "data": {
      "text/plain": [
       "'good'"
      ]
     },
     "execution_count": 7,
     "metadata": {},
     "output_type": "execute_result"
    }
   ],
   "source": [
    "c1.show_pare1()"
   ]
  },
  {
   "cell_type": "code",
   "execution_count": 8,
   "id": "49cce6cb",
   "metadata": {},
   "outputs": [],
   "source": [
    "c1.assign_pare2(\"nothing\")"
   ]
  },
  {
   "cell_type": "code",
   "execution_count": 9,
   "id": "16050934",
   "metadata": {},
   "outputs": [
    {
     "data": {
      "text/plain": [
       "'nothing'"
      ]
     },
     "execution_count": 9,
     "metadata": {},
     "output_type": "execute_result"
    }
   ],
   "source": [
    "c1.show_pare2()"
   ]
  },
  {
   "cell_type": "code",
   "execution_count": 1,
   "id": "3e969123",
   "metadata": {},
   "outputs": [],
   "source": [
    "class p1:\n",
    "    def good(self,name):\n",
    "        self.name = name\n",
    "    def show_p1(self):\n",
    "        return self.name"
   ]
  },
  {
   "cell_type": "code",
   "execution_count": 2,
   "id": "07a3446f",
   "metadata": {},
   "outputs": [],
   "source": [
    "class p2:\n",
    "    def poor(self,address):\n",
    "        self.adress = address\n",
    "    def show_p2(self):\n",
    "        return self.addresss"
   ]
  },
  {
   "cell_type": "code",
   "execution_count": 12,
   "id": "f9cd0f18",
   "metadata": {},
   "outputs": [],
   "source": [
    "class c1(p1,p2):\n",
    "    def chil(self,chil,address):\n",
    "        self.chil = chil\n",
    "    def show_c1(self):\n",
    "        return self.chil\n",
    "    def show_c1(self):\n",
    "        return self.address"
   ]
  },
  {
   "cell_type": "code",
   "execution_count": 13,
   "id": "9262dcd8",
   "metadata": {},
   "outputs": [],
   "source": [
    "c2 = c1()"
   ]
  },
  {
   "cell_type": "code",
   "execution_count": 14,
   "id": "adae7fcd",
   "metadata": {},
   "outputs": [],
   "source": [
    "c2.good(\"bro\")"
   ]
  },
  {
   "cell_type": "code",
   "execution_count": 15,
   "id": "92ec3d5b",
   "metadata": {},
   "outputs": [
    {
     "data": {
      "text/plain": [
       "'bro'"
      ]
     },
     "execution_count": 15,
     "metadata": {},
     "output_type": "execute_result"
    }
   ],
   "source": [
    "c2.show_p1()"
   ]
  },
  {
   "cell_type": "code",
   "execution_count": 16,
   "id": "61de5855",
   "metadata": {},
   "outputs": [],
   "source": [
    "c2.poor(\"myluck\")"
   ]
  },
  {
   "cell_type": "code",
   "execution_count": 1,
   "id": "e8686151",
   "metadata": {},
   "outputs": [],
   "source": [
    "class n1:\n",
    "    def __init__(self,name,address):\n",
    "        self.name = name\n",
    "        self.address = address\n",
    "    def n1_info(self):\n",
    "        print(\"student name is : \",self.name)\n",
    "        print(\"student address is : \",self.address)\n",
    "        "
   ]
  },
  {
   "cell_type": "code",
   "execution_count": 3,
   "id": "697a3054",
   "metadata": {},
   "outputs": [],
   "source": [
    "c1 = n1(\"good\",\"naroda\")\n"
   ]
  },
  {
   "cell_type": "code",
   "execution_count": 13,
   "id": "7f5cee20",
   "metadata": {},
   "outputs": [
    {
     "name": "stdout",
     "output_type": "stream",
     "text": [
      " goo\n",
      "HELLO GOOD MORNING HOW ARE YOU \n",
      "hi good morning how are you \n",
      "Hello good morning how are you \n",
      "hello good morning how are you \n",
      "2\n",
      "True\n",
      "False\n",
      "h,e,l,l,o, ,g,o,o,d, ,m,o,r,n,i,n,g, ,h,o,w, ,a,r,e, ,y,o,u, \n"
     ]
    }
   ],
   "source": [
    "c = \"hello good morning how are you \"\n",
    "print(c[5:9])\n",
    "print(c.upper())\n",
    "print(c.replace(\"hello\",\"hi\"))\n",
    "print(c.capitalize())\n",
    "print(c.casefold())\n",
    "print(c.count(\"n\"))\n",
    "print(c.endswith(\" \"))\n",
    "print(c.istitle())\n",
    "print(\",\".join(c))"
   ]
  },
  {
   "cell_type": "code",
   "execution_count": 24,
   "id": "cecc07af",
   "metadata": {},
   "outputs": [
    {
     "name": "stdout",
     "output_type": "stream",
     "text": [
      "<class 'list'>\n",
      "hi\n",
      "['hello', 'by', 'bye']\n",
      "['hi', 'by', 'bye']\n",
      "None\n",
      "['hi', 'by', 'bye', 'hello']\n",
      "None\n",
      "['hi', 'good bye', 'by', 'bye', 'hello']\n",
      "None\n",
      "['by', 'bye', 'good bye', 'hello', 'hi']\n"
     ]
    }
   ],
   "source": [
    "b = [\"hello\",\"hi\",\"bye\"]\n",
    "print(type(b))\n",
    "print(b[1])\n",
    "b[1] = \"by\"\n",
    "print(b)\n",
    "b[0] = \"hi\"\n",
    "print(b)\n",
    "print(b.append(\"hello\"))\n",
    "print(b)\n",
    "print(b.insert(1,\"good bye\"))\n",
    "print(b)\n",
    "print(b.sort())\n",
    "print(b)"
   ]
  },
  {
   "cell_type": "code",
   "execution_count": null,
   "id": "820c49c7",
   "metadata": {},
   "outputs": [],
   "source": []
  }
 ],
 "metadata": {
  "kernelspec": {
   "display_name": "Python 3 (ipykernel)",
   "language": "python",
   "name": "python3"
  },
  "language_info": {
   "codemirror_mode": {
    "name": "ipython",
    "version": 3
   },
   "file_extension": ".py",
   "mimetype": "text/x-python",
   "name": "python",
   "nbconvert_exporter": "python",
   "pygments_lexer": "ipython3",
   "version": "3.9.12"
  }
 },
 "nbformat": 4,
 "nbformat_minor": 5
}
