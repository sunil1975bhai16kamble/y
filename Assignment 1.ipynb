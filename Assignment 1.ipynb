{
 "cells": [
  {
   "cell_type": "markdown",
   "id": "4a454b48",
   "metadata": {},
   "source": [
    "## python fundamental assignment"
   ]
  },
  {
   "cell_type": "code",
   "execution_count": 15,
   "id": "28df1fb5",
   "metadata": {},
   "outputs": [
    {
     "name": "stdout",
     "output_type": "stream",
     "text": [
      "1\n",
      ",\n",
      "2\n",
      ",\n",
      "3\n",
      ",\n",
      "4\n",
      ",\n",
      ".\n",
      ".\n",
      ".\n"
     ]
    }
   ],
   "source": [
    "x = \"1,2,3,4,...\"\n",
    "i = 0\n",
    "while i<len(x):\n",
    "    print(x[i])\n",
    "    i = i+1 "
   ]
  },
  {
   "cell_type": "code",
   "execution_count": 2,
   "id": "5187450c",
   "metadata": {},
   "outputs": [
    {
     "name": "stdout",
     "output_type": "stream",
     "text": [
      "13\n",
      "25\n"
     ]
    }
   ],
   "source": [
    "speech = \"never give up\"\n",
    "print(len(speech))\n",
    "x = \"runing is good for health\"\n",
    "print(len(x))"
   ]
  },
  {
   "cell_type": "code",
   "execution_count": 4,
   "id": "de0fa59f",
   "metadata": {},
   "outputs": [
    {
     "name": "stdout",
     "output_type": "stream",
     "text": [
      "2\n",
      "2\n",
      "2\n"
     ]
    }
   ],
   "source": [
    "sentance = \"virat kholi is good captain but rohit sharma is more  good captain to virat kholi\"\n",
    "x = sentance.count(\"virat kholi\")\n",
    "print(x)\n",
    "y = sentance.count(\"captain\")\n",
    "print(y)\n",
    "z = sentance.count(\"good\")\n",
    "print(z)"
   ]
  },
  {
   "cell_type": "code",
   "execution_count": 2,
   "id": "09ed11f0",
   "metadata": {},
   "outputs": [
    {
     "name": "stdout",
     "output_type": "stream",
     "text": [
      "work hard always don't wast your time\n"
     ]
    }
   ],
   "source": [
    "c = \"work hard always\"\n",
    "d = \"don't wast your time\"\n",
    "print(c + \" \"+ d)"
   ]
  },
  {
   "cell_type": "code",
   "execution_count": 1,
   "id": "781afd77",
   "metadata": {},
   "outputs": [
    {
     "name": "stdout",
     "output_type": "stream",
     "text": [
      "string\n"
     ]
    }
   ],
   "source": [
    "r = \"str\"\n",
    "e = r.replace(\"str\",\"string\")\n",
    "print(e)"
   ]
  },
  {
   "cell_type": "code",
   "execution_count": 11,
   "id": "cebe042e",
   "metadata": {},
   "outputs": [
    {
     "name": "stdout",
     "output_type": "stream",
     "text": [
      "3\n",
      "51\n",
      "drive solw bike becuse it is good for your famliy and every one\n"
     ]
    }
   ],
   "source": [
    "t = \"do not drive fast bike than hospital bill make you poor \"\n",
    "y = t.find(\"not\")\n",
    "print(y)\n",
    "z = t.find(\"poor\")\n",
    "print(z)\n",
    "x = \"drive solw bike becuse it is good for your famliy and every one\"\n",
    "print(x)"
   ]
  },
  {
   "cell_type": "code",
   "execution_count": 1,
   "id": "e68c3fa6",
   "metadata": {},
   "outputs": [
    {
     "name": "stdout",
     "output_type": "stream",
     "text": [
      "2\n"
     ]
    }
   ],
   "source": [
    "x = 18\n",
    "y = 20\n",
    "\n",
    "while y:\n",
    "    x,y = y, x%y\n",
    "    \n",
    "print(x)"
   ]
  },
  {
   "cell_type": "code",
   "execution_count": 1,
   "id": "01fba048",
   "metadata": {},
   "outputs": [
    {
     "name": "stdout",
     "output_type": "stream",
     "text": [
      "Never give up in the life\n",
      "never give up in the life\n",
      "  never give up in the life   \n",
      "5\n",
      "True\n",
      "6\n",
      "11\n",
      "False\n",
      "False\n",
      "False\n",
      "True\n",
      "False\n",
      "False\n",
      "False\n",
      "never give up in the life\n",
      "NEVER GIVE UP IN THE LIFE\n",
      "False\n"
     ]
    }
   ],
   "source": [
    "#strind mothod (important)\n",
    "x = \"never give up in the life\"\n",
    "y = x.capitalize()\n",
    "print(y)\n",
    "z = x.casefold()\n",
    "print(z)\n",
    "a = x.center(30)                #mothod of the string \n",
    "print(a)\n",
    "b = x.count(\"e\")\n",
    "print(b)\n",
    "c = x.endswith(\"life\")\n",
    "print(c)\n",
    "d = x.find(\"give\")\n",
    "print(d)\n",
    "e = x.index(\"up\")\n",
    "print(e)\n",
    "f = x.isalnum()\n",
    "print(f)\n",
    "g = x.isalpha()\n",
    "print(g)\n",
    "h = x.isdigit()\n",
    "print(h)\n",
    "i = x.islower()\n",
    "print(i)\n",
    "j = x.isnumeric()\n",
    "print(j)\n",
    "k = x.istitle()\n",
    "print(k)\n",
    "l = x.isupper()\n",
    "print(l)\n",
    "m = x.lower()\n",
    "print(m)\n",
    "n = x.upper()\n",
    "print(n)\n",
    "o = x.startswith(\"NEVER\")\n",
    "print(o)\n"
   ]
  },
  {
   "cell_type": "code",
   "execution_count": null,
   "id": "c26a2525",
   "metadata": {},
   "outputs": [],
   "source": []
  }
 ],
 "metadata": {
  "kernelspec": {
   "display_name": "Python 3 (ipykernel)",
   "language": "python",
   "name": "python3"
  },
  "language_info": {
   "codemirror_mode": {
    "name": "ipython",
    "version": 3
   },
   "file_extension": ".py",
   "mimetype": "text/x-python",
   "name": "python",
   "nbconvert_exporter": "python",
   "pygments_lexer": "ipython3",
   "version": "3.9.12"
  }
 },
 "nbformat": 4,
 "nbformat_minor": 5
}
